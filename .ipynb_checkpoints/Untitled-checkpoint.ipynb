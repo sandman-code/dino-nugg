{
 "cells": [
  {
   "cell_type": "code",
   "execution_count": 15,
   "id": "a0165eed-6531-4282-87ae-210e252ecece",
   "metadata": {
    "tags": []
   },
   "outputs": [],
   "source": [
    "from langchain.document_loaders import UnstructuredPDFLoader, OnlinePDFLoader\n",
    "from langchain.text_splitter import RecursiveCharacterTextSplitter"
   ]
  },
  {
   "cell_type": "code",
   "execution_count": 16,
   "id": "5654fc94-fd60-4d34-97c0-0d5489340083",
   "metadata": {
    "tags": []
   },
   "outputs": [],
   "source": [
    "loader = UnstructuredPDFLoader('./qb.pdf')"
   ]
  },
  {
   "cell_type": "code",
   "execution_count": 17,
   "id": "19b888de-9a81-44a3-869b-a096b8830117",
   "metadata": {
    "tags": []
   },
   "outputs": [],
   "source": [
    "data = loader.load()"
   ]
  },
  {
   "cell_type": "code",
   "execution_count": 18,
   "id": "cb1074c3-4a10-424b-bd25-139887d210b6",
   "metadata": {
    "tags": []
   },
   "outputs": [
    {
     "name": "stdout",
     "output_type": "stream",
     "text": [
      "865694\n"
     ]
    }
   ],
   "source": [
    "print(f'{len(data[0].page_content)}')"
   ]
  },
  {
   "cell_type": "code",
   "execution_count": 20,
   "id": "2ebb8951-639b-45a6-89ba-c8cba7837bb3",
   "metadata": {
    "tags": []
   },
   "outputs": [],
   "source": [
    "text_splitter=RecursiveCharacterTextSplitter(chunk_size=1000, chunk_overlap=0)\n",
    "texts = text_splitter.split_documents(data)"
   ]
  },
  {
   "cell_type": "code",
   "execution_count": 21,
   "id": "b93cd75b-732a-4500-90cc-2893002eb468",
   "metadata": {
    "tags": []
   },
   "outputs": [
    {
     "name": "stdout",
     "output_type": "stream",
     "text": [
      "1087\n"
     ]
    }
   ],
   "source": [
    "print(len(texts))"
   ]
  },
  {
   "cell_type": "markdown",
   "id": "73e09d37-fcce-4aea-a2f0-08013fc56a5f",
   "metadata": {
    "tags": []
   },
   "source": [
    "# Embeddings Portion"
   ]
  },
  {
   "cell_type": "code",
   "execution_count": 25,
   "id": "b702f334-e577-4937-8fbc-4b4c2f446fce",
   "metadata": {
    "tags": []
   },
   "outputs": [],
   "source": [
    "from langchain.vectorstores import Pinecone\n",
    "from langchain.embeddings.openai import OpenAIEmbeddings\n",
    "import pinecone"
   ]
  },
  {
   "cell_type": "code",
   "execution_count": null,
   "id": "70418270-5364-4e6c-9505-3f37ed0d21f7",
   "metadata": {},
   "outputs": [],
   "source": [
    "embeddings = OpenAIEmbeddings(openai_apo"
   ]
  }
 ],
 "metadata": {
  "kernelspec": {
   "display_name": "Python 3 (ipykernel)",
   "language": "python",
   "name": "python3"
  },
  "language_info": {
   "codemirror_mode": {
    "name": "ipython",
    "version": 3
   },
   "file_extension": ".py",
   "mimetype": "text/x-python",
   "name": "python",
   "nbconvert_exporter": "python",
   "pygments_lexer": "ipython3",
   "version": "3.10.6"
  }
 },
 "nbformat": 4,
 "nbformat_minor": 5
}
