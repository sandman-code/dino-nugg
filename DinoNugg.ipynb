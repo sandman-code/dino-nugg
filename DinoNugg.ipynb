{
 "cells": [
  {
   "cell_type": "code",
   "execution_count": 1,
   "id": "a0165eed-6531-4282-87ae-210e252ecece",
   "metadata": {
    "tags": []
   },
   "outputs": [],
   "source": [
    "from langchain.document_loaders import UnstructuredPDFLoader, OnlinePDFLoader\n",
    "from langchain.text_splitter import RecursiveCharacterTextSplitter"
   ]
  },
  {
   "cell_type": "code",
   "execution_count": 37,
   "id": "5654fc94-fd60-4d34-97c0-0d5489340083",
   "metadata": {
    "tags": []
   },
   "outputs": [],
   "source": [
    "loader = UnstructuredPDFLoader('./qb.pdf')"
   ]
  },
  {
   "cell_type": "code",
   "execution_count": 3,
   "id": "19b888de-9a81-44a3-869b-a096b8830117",
   "metadata": {
    "tags": []
   },
   "outputs": [],
   "source": [
    "data = loader.load()"
   ]
  },
  {
   "cell_type": "code",
   "execution_count": 4,
   "id": "cb1074c3-4a10-424b-bd25-139887d210b6",
   "metadata": {
    "tags": []
   },
   "outputs": [
    {
     "name": "stdout",
     "output_type": "stream",
     "text": [
      "865694\n"
     ]
    }
   ],
   "source": [
    "print(f'{len(data[0].page_content)}')"
   ]
  },
  {
   "cell_type": "code",
   "execution_count": 5,
   "id": "2ebb8951-639b-45a6-89ba-c8cba7837bb3",
   "metadata": {
    "tags": []
   },
   "outputs": [],
   "source": [
    "text_splitter=RecursiveCharacterTextSplitter(chunk_size=1000, chunk_overlap=0)\n",
    "texts = text_splitter.split_documents(data)"
   ]
  },
  {
   "cell_type": "code",
   "execution_count": 6,
   "id": "b93cd75b-732a-4500-90cc-2893002eb468",
   "metadata": {
    "tags": []
   },
   "outputs": [
    {
     "name": "stdout",
     "output_type": "stream",
     "text": [
      "1087\n"
     ]
    }
   ],
   "source": [
    "print(len(texts))"
   ]
  },
  {
   "cell_type": "markdown",
   "id": "73e09d37-fcce-4aea-a2f0-08013fc56a5f",
   "metadata": {
    "tags": []
   },
   "source": [
    "# Embeddings Portion"
   ]
  },
  {
   "cell_type": "code",
   "execution_count": 7,
   "id": "b702f334-e577-4937-8fbc-4b4c2f446fce",
   "metadata": {
    "tags": []
   },
   "outputs": [
    {
     "name": "stderr",
     "output_type": "stream",
     "text": [
      "/home/sandman/.local/lib/python3.10/site-packages/pinecone/index.py:4: TqdmExperimentalWarning: Using `tqdm.autonotebook.tqdm` in notebook mode. Use `tqdm.tqdm` instead to force console mode (e.g. in jupyter console)\n",
      "  from tqdm.autonotebook import tqdm\n"
     ]
    }
   ],
   "source": [
    "from langchain.vectorstores import Pinecone\n",
    "from langchain.embeddings.openai import OpenAIEmbeddings\n",
    "import pinecone"
   ]
  },
  {
   "cell_type": "code",
   "execution_count": 8,
   "id": "70418270-5364-4e6c-9505-3f37ed0d21f7",
   "metadata": {
    "tags": []
   },
   "outputs": [],
   "source": [
    "OPENAI_API_KEY = %env OPENAI_API_KEY\n",
    "embeddings = OpenAIEmbeddings(openai_api_key=OPENAI_API_KEY)"
   ]
  },
  {
   "cell_type": "code",
   "execution_count": 12,
   "id": "e31076d1-48da-470b-afe7-028f7e40287f",
   "metadata": {},
   "outputs": [],
   "source": [
    "PINECONE_API_KEY = %env PINECONE_API_KEY\n",
    "pinecone.init(\n",
    "    api_key=PINECONE_API_KEY,\n",
    "    environment='northamerica-northeast1-gcp'\n",
    ")\n",
    "index_name = \"langchain1\""
   ]
  },
  {
   "cell_type": "code",
   "execution_count": 15,
   "id": "40eb136c-b7f4-49e6-bc8b-5dee6180df49",
   "metadata": {
    "tags": []
   },
   "outputs": [],
   "source": [
    "docsearch = Pinecone.from_texts([t.page_content for t in texts], embeddings, index_name=index_name)"
   ]
  },
  {
   "cell_type": "code",
   "execution_count": 30,
   "id": "e3544451-02e3-4a23-a844-f689ea4d8218",
   "metadata": {
    "tags": []
   },
   "outputs": [],
   "source": [
    "query = \"What is a qubit in Quantum Mechanics?\"\n",
    "docs = docsearch.similarity_search(query)"
   ]
  },
  {
   "cell_type": "code",
   "execution_count": 39,
   "id": "b6606db2-4a7f-4300-b3a3-7e6eed295fa7",
   "metadata": {
    "tags": []
   },
   "outputs": [
    {
     "name": "stdout",
     "output_type": "stream",
     "text": [
      "with real qubits is extremely challenging and in its infancy, but it has already established that there is no objection in principle to realising the simple unitary operators that quantum computing requires. It is too early to tell what physical form qubits will take when quantum computing becomes a mature technology. Consequently, we leave to one side the question of how our operators are to be realised and focus instead on what operators we require and what could be achieved with them when they have been realised.\n"
     ]
    }
   ],
   "source": [
    "len(docs)\n",
    "print(docs[0].page_content)"
   ]
  },
  {
   "cell_type": "markdown",
   "id": "4bfc1958-159e-4079-8254-510005c047d7",
   "metadata": {},
   "source": [
    "# Query Answer"
   ]
  },
  {
   "cell_type": "code",
   "execution_count": 32,
   "id": "6a16cee6-3642-476c-944b-03bab885a2c1",
   "metadata": {
    "tags": []
   },
   "outputs": [],
   "source": [
    "from langchain.llms import OpenAI\n",
    "from langchain.chains.question_answering import load_qa_chain"
   ]
  },
  {
   "cell_type": "code",
   "execution_count": 33,
   "id": "eadedde4-0f73-4ba1-a928-70fddeedd264",
   "metadata": {
    "tags": []
   },
   "outputs": [],
   "source": [
    "llm = OpenAI(model_name=\"text-ada-001\", n=2, best_of=2,openai_api_key=OPENAI_API_KEY)\n",
    "chain = load_qa_chain(llm, chain_type=\"stuff\")"
   ]
  },
  {
   "cell_type": "code",
   "execution_count": 34,
   "id": "97f89f5c-b02a-4d34-9bf5-51a3c0c49de1",
   "metadata": {
    "tags": []
   },
   "outputs": [],
   "source": [
    "query = \"What is a qubit?\"\n",
    "docs = docsearch.similarity_search(query)"
   ]
  },
  {
   "cell_type": "code",
   "execution_count": 36,
   "id": "1cce78e6-a681-44a0-9bde-a71d44a109de",
   "metadata": {
    "tags": []
   },
   "outputs": [
    {
     "data": {
      "text/plain": [
       "' A quantum bit is a unitary operator that requires two states to be changed, controlled-U operators.'"
      ]
     },
     "execution_count": 36,
     "metadata": {},
     "output_type": "execute_result"
    }
   ],
   "source": [
    "chain.run(input_documents=docs, question=query)"
   ]
  },
  {
   "cell_type": "code",
   "execution_count": null,
   "id": "6b1d0e8b-2a11-4762-9d94-452148dad07b",
   "metadata": {},
   "outputs": [],
   "source": []
  }
 ],
 "metadata": {
  "kernelspec": {
   "display_name": "Python 3 (ipykernel)",
   "language": "python",
   "name": "python3"
  },
  "language_info": {
   "codemirror_mode": {
    "name": "ipython",
    "version": 3
   },
   "file_extension": ".py",
   "mimetype": "text/x-python",
   "name": "python",
   "nbconvert_exporter": "python",
   "pygments_lexer": "ipython3",
   "version": "3.10.6"
  }
 },
 "nbformat": 4,
 "nbformat_minor": 5
}
